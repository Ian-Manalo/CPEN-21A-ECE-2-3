{
  "nbformat": 4,
  "nbformat_minor": 0,
  "metadata": {
    "colab": {
      "name": "Final Exam.ipynb",
      "provenance": [],
      "collapsed_sections": [],
      "authorship_tag": "ABX9TyNzLhx4IPBYCa5gFYr+eBE2",
      "include_colab_link": true
    },
    "kernelspec": {
      "name": "python3",
      "display_name": "Python 3"
    },
    "language_info": {
      "name": "python"
    }
  },
  "cells": [
    {
      "cell_type": "markdown",
      "metadata": {
        "id": "view-in-github",
        "colab_type": "text"
      },
      "source": [
        "<a href=\"https://colab.research.google.com/github/Ian-Manalo/CPEN-21A-ECE-2-3/blob/main/Final_Exam.ipynb\" target=\"_parent\"><img src=\"https://colab.research.google.com/assets/colab-badge.svg\" alt=\"Open In Colab\"/></a>"
      ]
    },
    {
      "cell_type": "markdown",
      "source": [
        "##PROBLEM STATEMENT 1"
      ],
      "metadata": {
        "id": "2_m3VqZzbH6c"
      }
    },
    {
      "cell_type": "code",
      "source": [
        "x=0\n",
        "for i in range(10):\n",
        "  a=int(input(\"Enter a number: \"))\n",
        "  if a<5:\n",
        "    x=x+a\n",
        "  if a>4:\n",
        "    print(\"Invalid Number\")\n",
        "    break\n",
        "print(\"The sum of your number is: \",x)"
      ],
      "metadata": {
        "colab": {
          "base_uri": "https://localhost:8080/"
        },
        "id": "eFPi2xJUCDWB",
        "outputId": "1906df4e-7363-41d8-94bd-18f61da8061e"
      },
      "execution_count": 124,
      "outputs": [
        {
          "output_type": "stream",
          "name": "stdout",
          "text": [
            "Enter a number: 1\n",
            "Enter a number: 2\n",
            "Enter a number: 3\n",
            "Enter a number: 4\n",
            "Enter a number: 1\n",
            "Enter a number: 2\n",
            "Enter a number: 3\n",
            "Enter a number: 4\n",
            "Enter a number: 1\n",
            "Enter a number: 2\n",
            "The sum of your number is:  23\n"
          ]
        }
      ]
    },
    {
      "cell_type": "markdown",
      "source": [
        "##PROBLEM STATEMENT 2"
      ],
      "metadata": {
        "id": "NV3ilMVREDBL"
      }
    },
    {
      "cell_type": "code",
      "source": [
        "a=5\n",
        "b=0\n",
        "while a!=0:\n",
        "  x=int(input(\"Enter your number: \"))\n",
        "  if a==5:\n",
        "    b=b+x\n",
        "    a-=1\n",
        "  elif a==1:\n",
        "    b=b+x\n",
        "    a-=1\n",
        "    print(\"The sum of the first and last number is: \",b)\n",
        "  else:\n",
        "    a-=1"
      ],
      "metadata": {
        "colab": {
          "base_uri": "https://localhost:8080/"
        },
        "id": "b2f3FOgsEGnE",
        "outputId": "faa23de2-e8b9-45b8-df3e-e5d1a6b92b62"
      },
      "execution_count": 132,
      "outputs": [
        {
          "output_type": "stream",
          "name": "stdout",
          "text": [
            "Input numbers=0\n",
            "Input numbers=0\n",
            "Input numbers=0\n",
            "Input numbers=0\n",
            "Input numbers=10\n",
            "The sum of the first and last number is 10\n"
          ]
        }
      ]
    },
    {
      "cell_type": "markdown",
      "source": [
        "##PROBLEM STATEMENT 3"
      ],
      "metadata": {
        "id": "CU3Tza5yHuhD"
      }
    },
    {
      "cell_type": "code",
      "source": [
        "a=int(input(\"Enter your Grade: \"))\n",
        "if a>100 or a<0:\n",
        "  print(\"The grade is Invalid\")\n",
        "else:\n",
        "  if a>90:\n",
        "    print(\"Your grade is A\")\n",
        "  elif a>=80 and a<=90:\n",
        "    print(\"Your grade is B\")\n",
        "  elif a>=70 and a<=79:\n",
        "    print(\"Your grade is C\")\n",
        "  elif a>=60 and a<=69:\n",
        "    print(\"Your grade is D\")\n",
        "  else:\n",
        "    print(\"Your grade is F\")\n"
      ],
      "metadata": {
        "colab": {
          "base_uri": "https://localhost:8080/"
        },
        "id": "ZxA5qCeDHxYl",
        "outputId": "7187432c-2ad3-4256-89c2-734525c7eb4e"
      },
      "execution_count": 162,
      "outputs": [
        {
          "output_type": "stream",
          "name": "stdout",
          "text": [
            "Enter your Grade: 80\n",
            "Your grade is B\n"
          ]
        }
      ]
    }
  ]
}