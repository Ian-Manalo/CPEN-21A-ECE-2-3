{
  "nbformat": 4,
  "nbformat_minor": 0,
  "metadata": {
    "colab": {
      "name": "Midterm Exam.ipynb",
      "provenance": [],
      "authorship_tag": "ABX9TyNWQrqQD1bIm5LNM+1JN3+e",
      "include_colab_link": true
    },
    "kernelspec": {
      "name": "python3",
      "display_name": "Python 3"
    },
    "language_info": {
      "name": "python"
    }
  },
  "cells": [
    {
      "cell_type": "markdown",
      "metadata": {
        "id": "view-in-github",
        "colab_type": "text"
      },
      "source": [
        "<a href=\"https://colab.research.google.com/github/Ian-Manalo/CPEN-21A-ECE-2-3/blob/main/Midterm_Exam.ipynb\" target=\"_parent\"><img src=\"https://colab.research.google.com/assets/colab-badge.svg\" alt=\"Open In Colab\"/></a>"
      ]
    },
    {
      "cell_type": "code",
      "metadata": {
        "id": "QAFw9c7LsY6K"
      },
      "source": [
        ""
      ],
      "execution_count": null,
      "outputs": []
    },
    {
      "cell_type": "markdown",
      "metadata": {
        "id": "nM3On1EIsesp"
      },
      "source": [
        "Problem Statement 1"
      ]
    },
    {
      "cell_type": "code",
      "metadata": {
        "colab": {
          "base_uri": "https://localhost:8080/"
        },
        "id": "AFxS52ZWsvhG",
        "outputId": "c025c374-66e1-4fbe-c722-981d01cf2fe2"
      },
      "source": [
        "print('Full Name:     Ian L. Manalo')\n",
        "print('Student No.:   201814794')\n",
        "print('Age:           21')\n",
        "print('Birthday:      July 1, 2000')\n",
        "print('Address:       183 Upli Alfonso Cavite')\n",
        "print('Course:        Bachelor of Science in Electrical Engineering')\n",
        "print('Last Sem GWA:  1.96')"
      ],
      "execution_count": 41,
      "outputs": [
        {
          "output_type": "stream",
          "name": "stdout",
          "text": [
            "Full Name:     Ian L. Manalo\n",
            "Student No.:   201814794\n",
            "Age:           21\n",
            "Birthday:      July 1, 2000\n",
            "Address:       183 Upli Alfonso Cavite\n",
            "Course:        Bachelor of Science in Electrical Engineering\n",
            "Last Sem GWA:  1.96\n"
          ]
        }
      ]
    },
    {
      "cell_type": "markdown",
      "metadata": {
        "id": "WZxC17bSu6hC"
      },
      "source": [
        "Problem Statement 2"
      ]
    },
    {
      "cell_type": "code",
      "metadata": {
        "colab": {
          "base_uri": "https://localhost:8080/"
        },
        "id": "cnXDXyEZ2eWt",
        "outputId": "4331b8dc-362d-407a-d1b0-71dfe7237346"
      },
      "source": [
        "n=4\n",
        "asnw=\"Y\"\n",
        "\n",
        "#a\n",
        "a=(2<n) and (n<6)\n",
        "print('answer for letter a is:',a)\n",
        "\n",
        "#b\n",
        "b=(2<n) or (n==6)\n",
        "print('answer for letter b is:',b)\n",
        "\n",
        "#c\n",
        "c=not((2<n) or (n==6))\n",
        "print('answer for letter c is:',c)\n",
        "\n",
        "#d\n",
        "d=not(n<6)\n",
        "print('answer for letter d is:',d)\n",
        "\n",
        "#e\n",
        "e=(answ==\"Y\") or (answ==\"y\")\n",
        "print('answer for letter e is:',e)\n",
        "\n",
        "#f\n",
        "f=(answ==\"Y\") and (answ==\"y\")\n",
        "print('answer for letter f is:',f)\n",
        "\n",
        "#g\n",
        "g=not(answ==\"y\")\n",
        "print('answer for letter g is:',g)\n",
        "\n",
        "#h\n",
        "h=((2<n) and (n==5+1)) or (answ==\"No\")\n",
        "print('answer for letter h is:',h)\n",
        "\n",
        "#i\n",
        "i=((n==2) and (n==7)) or (answ==\"Y\")\n",
        "print('answer for letter i is:',i)\n",
        "\n",
        "#j\n",
        "j=(n==2) and ((n==7) or (answ==\"Y\"))\n",
        "print('answer for letter j is:',j)\n",
        "\n"
      ],
      "execution_count": 40,
      "outputs": [
        {
          "output_type": "stream",
          "name": "stdout",
          "text": [
            "answer for letter a is: True\n",
            "answer for letter b is: True\n",
            "answer for letter c is: False\n",
            "answer for letter d is: False\n",
            "answer for letter e is: True\n",
            "answer for letter f is: False\n",
            "answer for letter g is: True\n",
            "answer for letter h is: False\n",
            "answer for letter i is: True\n",
            "answer for letter j is: False\n"
          ]
        }
      ]
    },
    {
      "cell_type": "markdown",
      "metadata": {
        "id": "Q9Pqo8Nwx6T0"
      },
      "source": [
        "Problem Statement 3"
      ]
    },
    {
      "cell_type": "code",
      "metadata": {
        "colab": {
          "base_uri": "https://localhost:8080/"
        },
        "id": "frt75Qg_x9Gc",
        "outputId": "daefa999-4e2b-4659-ff33-7216939b3806"
      },
      "source": [
        "x=2\n",
        "y=-3\n",
        "w=7\n",
        "z=-10\n",
        "\n",
        "a=x/y\n",
        "print('a is eqaul to:',a)\n",
        "\n",
        "b=w/y/x\n",
        "print('b is eqaul to:',b)\n",
        "\n",
        "c=z/y%x\n",
        "print('c is eqaul to:',c)\n",
        "\n",
        "d=x%-y*w\n",
        "print('d is eqaul to:',d)\n",
        "\n",
        "e=x%y\n",
        "print('e is eqaul to:',e)\n",
        "\n",
        "f=z%w-y/x*5+5\n",
        "print('f is eqaul to:',f)\n",
        "\n",
        "g=9-x%(2+y)\n",
        "print('g is eqaul to:',g)\n",
        "\n",
        "h=z//w\n",
        "print('h is eqaul to:',h)\n",
        "\n",
        "i=(2+y)**2\n",
        "print('i is eqaul to:',i)\n",
        "\n",
        "j=w/x*2\n",
        "print('j is eqaul to:',j)"
      ],
      "execution_count": 42,
      "outputs": [
        {
          "output_type": "stream",
          "name": "stdout",
          "text": [
            "a is eqaul to: -0.6666666666666666\n",
            "b is eqaul to: -1.1666666666666667\n",
            "c is eqaul to: 1.3333333333333335\n",
            "d is eqaul to: 14\n",
            "e is eqaul to: -1\n",
            "f is eqaul to: 16.5\n",
            "g is eqaul to: 9\n",
            "h is eqaul to: -2\n",
            "i is eqaul to: 1\n",
            "j is eqaul to: 7.0\n"
          ]
        }
      ]
    }
  ]
}