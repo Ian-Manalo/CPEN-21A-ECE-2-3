{
  "nbformat": 4,
  "nbformat_minor": 0,
  "metadata": {
    "colab": {
      "name": "Lab1.ipynb",
      "provenance": [],
      "collapsed_sections": [],
      "toc_visible": true,
      "include_colab_link": true
    },
    "kernelspec": {
      "display_name": "Python 3",
      "name": "python3"
    }
  },
  "cells": [
    {
      "cell_type": "markdown",
      "metadata": {
        "id": "view-in-github",
        "colab_type": "text"
      },
      "source": [
        "<a href=\"https://colab.research.google.com/github/Ian-Manalo/CPEN-21A-ECE-2-3/blob/main/Lab1.ipynb\" target=\"_parent\"><img src=\"https://colab.research.google.com/assets/colab-badge.svg\" alt=\"Open In Colab\"/></a>"
      ]
    },
    {
      "cell_type": "code",
      "metadata": {
        "id": "2IpdfZQBrDvR",
        "colab": {
          "base_uri": "https://localhost:8080/"
        },
        "outputId": "2db4a836-a0fa-4c2d-eae8-755a25c4f7c2"
      },
      "source": [
        "print(\"Welcome to Python Programming\")\n",
        "name=str(input(\"Enter your Name: \"))\n",
        "age=str(input(\"Enter your Age: \"))\n",
        "address=str(input(\"Enter your Address: \"))\n",
        "print(\"Name:\",name)\n",
        "print(\"Age:\",age)\n",
        "print(\"Address:\",address)"
      ],
      "execution_count": null,
      "outputs": [
        {
          "output_type": "stream",
          "name": "stdout",
          "text": [
            "Welcome to Python Programming\n",
            "Enter your Name: Ian Manalo\n",
            "Enter your Age: 21\n",
            "Enter your Address: 183 Upli Alfonso Cavite\n",
            "Name: Ian Manalo\n",
            "Age: 21\n",
            "Address: 183 Upli Alfonso Cavite\n"
          ]
        }
      ]
    }
  ]
}